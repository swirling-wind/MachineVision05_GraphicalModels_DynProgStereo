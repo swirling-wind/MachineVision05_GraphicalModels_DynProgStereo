{
 "cells": [
  {
   "cell_type": "markdown",
   "metadata": {},
   "source": [
    "## Practical5a\n",
    "\n",
    "The goal of this practical is to investigate dynamic progamming along\n",
    "scanlines in stereo vision.  In this part of the practical, we build a\n",
    "basic dynamic programming algorithm, which will solve the same problem as\n",
    "presented in the notes.  \n",
    "\n",
    "In practical 5b we will apply this to the stereo problem.  \n",
    "\n",
    "Use the template below, filling in parts marked \"TO DO\" (only todo for this one is in functions.py).\n",
    "\n"
   ]
  },
  {
   "cell_type": "code",
   "execution_count": 3,
   "metadata": {},
   "outputs": [],
   "source": [
    "import os \n",
    "import numpy as np\n",
    "import matplotlib.pyplot as plt\n",
    "import scipy.io as spio\n",
    "from functions import dynamicProgram\n",
    "plt.close('all')"
   ]
  },
  {
   "cell_type": "code",
   "execution_count": 4,
   "metadata": {},
   "outputs": [],
   "source": [
    "# define unary costs : unaryCosts[d,j] represents the cost for having\n",
    "# disparity d at pixel j.\n",
    "unaryCosts = np.array([[2.0, 1.1, 5.7, 1.5, 6.0, 3.1],\n",
    "              [0.8, 4.8, 1.0, 3.0, 6.9, 3.3],\n",
    "              [4.3, 2.3, 2.4, 2.4, 6.6, 6.2],\n",
    "              [6.4, 0.0, 6.1, 0.8, 7.1, 2.1],\n",
    "              [2.3, 2.2, 4.9, 8.9, 1.0, 9.8]])\n",
    "\n",
    "# define pairwise costs:  pairwiseCosts[a,b] represents the cost for changing from \n",
    "# disparity level A at pixel j to disparity level B at pixel j+1;\n",
    "pairwiseCosts = np.array([[   0,   2, 100, 100, 100],\n",
    "                          [   2,   0,   2, 100, 100],\n",
    "                          [ 100,   2,   0,   2, 100],\n",
    "                          [ 100, 100,   2,   0,   2],\n",
    "                          [ 100, 100, 100,   2,   0]])\n",
    "\n"
   ]
  },
  {
   "cell_type": "code",
   "execution_count": 6,
   "metadata": {},
   "outputs": [],
   "source": [
    "# TODO Fill in the dynamicProgram function in \"functions.py\""
   ]
  },
  {
   "cell_type": "code",
   "execution_count": null,
   "metadata": {},
   "outputs": [],
   "source": [
    "\n",
    "# Now, use dynamic programming to find best solution.\n",
    "bestPath = dynamicProgram(unaryCosts,pairwiseCosts)\n",
    "\n",
    "# display the nodes\n",
    "nY = len(unaryCosts)\n",
    "nX = len(unaryCosts[0])\n",
    "plt.axis([-1, 6, -1, 6])\n",
    "for cY in range(nY):\n",
    "    for cX in range(nX):\n",
    "        plt.plot(cX,cY,'ro',ms=5.)\n",
    "        plt.text(cX+.1, cY+.1, unaryCosts[cY,cX])\n",
    "\n",
    "\n",
    "# display the best path\n",
    "plt.plot(range(nX),bestPath,'b-')\n",
    "plt.show()\n",
    "\n",
    "# calculate the cost of the path computed\n",
    "bestPathCostUnary = np.sum((np.transpose(unaryCosts).reshape((nX*nY,1)))[(np.add(nY * np.array(range(nX)),np.transpose(bestPath)[0])).astype(int)])\n",
    "bestPathCostPairwise = np.sum(np.transpose(pairwiseCosts).reshape((nY*nY,1))[np.array([bestPath[0:-1]+nY*bestPath[1:]]).reshape((1,nY)).astype(int)[0]])\n",
    "bestCost = bestPathCostUnary+bestPathCostPairwise\n",
    "print('Path Cost =',bestCost)"
   ]
  }
 ],
 "metadata": {
  "kernelspec": {
   "display_name": "Python 3.9.12 ('base')",
   "language": "python",
   "name": "python3"
  },
  "language_info": {
   "codemirror_mode": {
    "name": "ipython",
    "version": 3
   },
   "file_extension": ".py",
   "mimetype": "text/x-python",
   "name": "python",
   "nbconvert_exporter": "python",
   "pygments_lexer": "ipython3",
   "version": "3.9.12"
  },
  "vscode": {
   "interpreter": {
    "hash": "b4451db8b73e28c0ddfda4d2b176157c8dc22b4667f0fbeff20bca7c9f05a095"
   }
  }
 },
 "nbformat": 4,
 "nbformat_minor": 4
}
