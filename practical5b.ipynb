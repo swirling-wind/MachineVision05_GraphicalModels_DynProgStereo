{
 "cells": [
  {
   "cell_type": "markdown",
   "metadata": {},
   "source": [
    "## Practical5b\n",
    "\n",
    "The goal of this part of the practical is to use the dynamic programming\n",
    "routine that you developed in the first part to solve the dense stero problem.\n",
    "\n",
    "Use the template below, filling in parts marked \"TO DO\".\n"
   ]
  },
  {
   "cell_type": "code",
   "execution_count": null,
   "metadata": {},
   "outputs": [],
   "source": [
    "import numpy as np \n",
    "from scipy.io import loadmat\n",
    "import matplotlib.pyplot as plt\n",
    "import time\n",
    "from functions import dynamicProgram, dynamicProgramVec\n",
    "plt.close('all')"
   ]
  },
  {
   "cell_type": "code",
   "execution_count": null,
   "metadata": {},
   "outputs": [],
   "source": [
    "# load in images and ground truth\n",
    "data = loadmat('StereoData.mat')\n",
    "im1 = data['im1'].astype('int')\n",
    "im2 = data['im2'].astype('int')\n",
    "gt = data['gt'].astype('int')"
   ]
  },
  {
   "cell_type": "code",
   "execution_count": null,
   "metadata": {},
   "outputs": [],
   "source": [
    "# ground truth disparity is originally expressed in 16'ths of pixels but we \n",
    "# will only consider whole-pixel shifts\n",
    "gtDisp = np.round(gt.astype(float)/16)\n",
    "\n",
    "im1show = im1\n",
    "im2show = im2\n",
    "if np.max(im1) > 1:\n",
    "    im1show = im1.astype(float)/255.\n",
    "    im2show = im2.astype(float)/255.\n",
    "    \n",
    "# display image\n",
    "f, (ax1, ax2) = plt.subplots(1, 2)\n",
    "ax1.imshow(im1, cmap='gray', interpolation='nearest', aspect=1)\n",
    "ax1.axis('off')\n",
    "ax2.imshow(im2, cmap='gray', interpolation='nearest', aspect=1)\n",
    "ax2.axis('off')\n",
    "plt.show()"
   ]
  },
  {
   "cell_type": "markdown",
   "metadata": {},
   "source": [
    "### Complete the TODOs in the final cell below\n",
    "\n",
    "Here we are going to make use of the \"dynamicProgram\" function we just wrote.\n",
    "\n",
    "We will first calculate the unary costs before using our function to calculate estimated disparity."
   ]
  },
  {
   "cell_type": "code",
   "execution_count": null,
   "metadata": {},
   "outputs": [],
   "source": [
    "# figure out size of image\n",
    "imY = len(im1)\n",
    "imX = len(im1[0])\n",
    "\n",
    "# define maximum disparity \n",
    "maxDisp = 10\n",
    "\n",
    "# set up pairwiseCosts - we will define a fixed cost of alpha for changing\n",
    "# disparity or zero cost for staying the same\n",
    "alpha = 1\n",
    "pairwiseCosts = alpha*np.ones([maxDisp,maxDisp])-alpha*np.eye(maxDisp)\n",
    "\n",
    "# initialize the disparity map that we will estimate\n",
    "estDisp = np.zeros([imY,imX-maxDisp])\n",
    "\n",
    "# define standard deviation of noise\n",
    "noiseSD = 6\n",
    "\n",
    "# display ground truth and estimated disparity\n",
    "plt.close('all')\n",
    "f, (ax1, ax2) = plt.subplots(1, 2)\n",
    "ax1.imshow(gtDisp, vmin=0,vmax=11, cmap='gray', extent=[0,len(gtDisp[0]),0,len(gtDisp)],interpolation='nearest')\n",
    "ax1.axis('off')\n",
    "ax1.set_title('Ground Truth')\n",
    "ax2.axis('off')\n",
    "plt.show()\n",
    "\n",
    "# run through each line of image\n",
    "for cY in range(imY):\n",
    "    print('Procesing scanline ',cY)\n",
    "    \n",
    "    # define unary costs - we will not use the last few columns of the\n",
    "    # image as the disparity might map the pixel outside the valid area of\n",
    "    # the second image\n",
    "    unaryCosts = np.zeros([maxDisp,imX-maxDisp])\n",
    "    \n",
    "    for cDisp in range(maxDisp):\n",
    "        cost=np.zeros(imX-maxDisp)\n",
    "        for cX in range(imX-maxDisp):\n",
    "            pass\n",
    "            #TODO - calculate cost for this disparity. This is the \n",
    "            #negative log likelihood, where the likelihood is a Gaussian\n",
    "            #with a mean of the value (i.e. intensity) at the offset pixel \n",
    "            #in image2 and a standard deviation of \"noiseSD\". \n",
    "            cost[cX] = 0\n",
    "        \n",
    "        # TODO store this cost in the unaryCosts matrix\n",
    "        # unaryCosts[ , ] = ...\n",
    "            \n",
    "    # TODO uncomment the line below and call the function that you wrote in the previous section (copy it\n",
    "    # into the cell above)\n",
    "    \n",
    "    # estDisp[cY,:] = np.transpose(dynamicProgram(unaryCosts,pairwiseCosts))\n",
    "\n",
    "    # display solution so far\n",
    "    f, (ax1, ax2) = plt.subplots(1, 2)\n",
    "    #ax1.clear()\n",
    "    ax1.imshow(gtDisp, vmin=0,vmax=11, cmap='gray', extent=[0,len(gtDisp[0]),0,len(gtDisp)],interpolation='nearest')\n",
    "    ax1.axis('off')\n",
    "    ax1.set_title('Ground Truth')\n",
    "    #ax2.clear()\n",
    "    ax2.imshow(estDisp, vmin=0,vmax=12, cmap='gray', extent=[0,len(estDisp[0]),0,len(estDisp)],interpolation='nearest')\n",
    "    ax2.axis('off')\n",
    "    ax2.set_title('Estimated Disparity')\n",
    "    plt.show()\n",
    "    \n",
    "    \n",
    "    \n",
    "# TODO - investigate how different values of alpha and noiseSD affect the results\n",
    "\n",
    "# TODO (optional) - rewrite the the \"dynamicProgram\" in the \"dynamicProgramVec\" function to make it more efficient. \n",
    "# Check the improvements by timining the function calls.\n",
    "\n",
    "# TODO (optional) - you should be able to rewrite this (calculating unary costs) with fewer loops once you have\n",
    "#the general idea so that it runs faster. Again you can check the speed improvements by timing them.\n",
    "\n",
    "# TODO (optional)- adapt the algorithm so that it makes use of colour information"
   ]
  }
 ],
 "metadata": {
  "kernelspec": {
   "display_name": "Python 3.9.12 ('base')",
   "language": "python",
   "name": "python3"
  },
  "language_info": {
   "codemirror_mode": {
    "name": "ipython",
    "version": 3
   },
   "file_extension": ".py",
   "mimetype": "text/x-python",
   "name": "python",
   "nbconvert_exporter": "python",
   "pygments_lexer": "ipython3",
   "version": "3.9.12"
  },
  "vscode": {
   "interpreter": {
    "hash": "b4451db8b73e28c0ddfda4d2b176157c8dc22b4667f0fbeff20bca7c9f05a095"
   }
  }
 },
 "nbformat": 4,
 "nbformat_minor": 4
}
